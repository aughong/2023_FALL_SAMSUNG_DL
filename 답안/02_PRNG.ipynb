{
 "cells": [
  {
   "cell_type": "markdown",
   "metadata": {},
   "source": [
    "# NumPy를 활용한 멀티 레이어 퍼셉트론 (MLP) 구현\n",
    "\n",
    "NumPy를 활용하여,\n",
    "\n",
    "1. 다양한 활성함수를 구현한다\n",
    "2. 퍼셉트론을 구현한다\n",
    "3. MLP를 구현한다\n",
    "\n",
    "__번외. 재현성을 위한 PRNG 시드 설정을 한다__"
   ]
  },
  {
   "cell_type": "markdown",
   "metadata": {},
   "source": [
    "### 재현성"
   ]
  },
  {
   "cell_type": "code",
   "execution_count": null,
   "metadata": {},
   "outputs": [],
   "source": [
    "import os\n",
    "import random\n",
    "import numpy as np\n",
    "import torch\n",
    "\n",
    "from torch.utils.data import DataLoader\n",
    "from torchvision import transforms\n",
    "from torchvision.datasets import MNIST"
   ]
  },
  {
   "cell_type": "code",
   "execution_count": null,
   "metadata": {},
   "outputs": [],
   "source": [
    "# 재현성을 위한 시드 고정\n",
    "seed = 42\n",
    "\n",
    "os.environ['PYTHONHASHSEED'] = str(seed)\n",
    "random.seed(seed)\n",
    "np.random.seed(int(seed))\n",
    "torch.manual_seed(seed)\n",
    "torch.use_deterministic_algorithms(True)\n",
    "torch.backends.cudnn.benchmark = False"
   ]
  },
  {
   "cell_type": "code",
   "execution_count": null,
   "metadata": {},
   "outputs": [],
   "source": [
    "# 데이터로더 시드 고정\n",
    "def seed_worker(worker_id):\n",
    "    worker_seed = 42\n",
    "    random.seed(worker_seed)\n",
    "    np.random.seed(worker_seed)\n",
    "\n",
    "g = torch.Generator()\n",
    "g.manual_seed(int(seed))\n",
    "\n",
    "ds = MNIST('./data', train=True, transform=transforms.ToTensor(), download=True)\n",
    "\n",
    "loader = DataLoader(ds, batch_size=1, num_workers=0,\n",
    "                    worker_init_fn=seed_worker,\n",
    "                    generator=g)"
   ]
  }
 ],
 "metadata": {
  "kernelspec": {
   "display_name": "lg",
   "language": "python",
   "name": "python3"
  },
  "language_info": {
   "codemirror_mode": {
    "name": "ipython",
    "version": 3
   },
   "file_extension": ".py",
   "mimetype": "text/x-python",
   "name": "python",
   "nbconvert_exporter": "python",
   "pygments_lexer": "ipython3",
   "version": "3.10.13"
  }
 },
 "nbformat": 4,
 "nbformat_minor": 2
}
