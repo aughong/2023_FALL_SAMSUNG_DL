{
  "nbformat": 4,
  "nbformat_minor": 0,
  "metadata": {
    "colab": {
      "provenance": []
    },
    "kernelspec": {
      "display_name": "Python 3",
      "language": "python",
      "name": "python3"
    },
    "language_info": {
      "codemirror_mode": {
        "name": "ipython",
        "version": 3
      },
      "file_extension": ".py",
      "mimetype": "text/x-python",
      "name": "python",
      "nbconvert_exporter": "python",
      "pygments_lexer": "ipython3",
      "version": "3.8.5"
    }
  },
  "cells": [
    {
      "cell_type": "markdown",
      "source": [
        "# 모델 생성과 학습\n",
        "\n",
        "PyTorch를 활용하여,\n",
        "\n",
        "1. 모델을 생성한다\n",
        "2. 학습을 수행한다"
      ],
      "metadata": {
        "id": "GJ_sLWx5Pbii"
      }
    },
    {
      "cell_type": "markdown",
      "source": [
        "## 토이 데이터셋 생성하기"
      ],
      "metadata": {
        "id": "Pl_QeVQNPssf"
      }
    },
    {
      "cell_type": "code",
      "source": [
        "from sklearn.datasets import make_blobs"
      ],
      "metadata": {
        "id": "KuQ2HaxePrsb"
      },
      "execution_count": null,
      "outputs": []
    },
    {
      "cell_type": "code",
      "metadata": {
        "id": "AcogT3YVfmfb"
      },
      "source": [
        "x_train, y_train = make_blobs(\n",
        "    n_samples=80,\n",
        "    n_features=2,\n",
        "    centers=[[0, 0], [1, 1], [1, 0], [0, 1]],\n",
        "    shuffle=True,\n",
        "    cluster_std=0.15\n",
        ")\n",
        "\n",
        "x_test, y_test = make_blobs(\n",
        "    n_samples=20,\n",
        "    n_features=2,\n",
        "    centers=[[0, 0], [1, 1], [1, 0], [0, 1]],\n",
        "    shuffle=False,\n",
        "    cluster_std=0.15\n",
        ")"
      ],
      "execution_count": null,
      "outputs": []
    },
    {
      "cell_type": "code",
      "metadata": {
        "id": "dDBxQXrAip0_"
      },
      "source": [
        "# 15번째 샘플까지만 x와 y 값을 출력합니다\n",
        "for i, (x, y) in enumerate(zip(x_train, y_train)):\n",
        "    print(x, y)\n",
        "    if i + 1 == 15:\n",
        "        break"
      ],
      "execution_count": null,
      "outputs": []
    },
    {
      "cell_type": "code",
      "source": [
        "import numpy as np"
      ],
      "metadata": {
        "id": "Ww3HqtWBQ4vn"
      },
      "execution_count": null,
      "outputs": []
    },
    {
      "cell_type": "code",
      "source": [
        "print(y_train)\n",
        "print(y_test)"
      ],
      "metadata": {
        "id": "N_Hdy8lcRPFd"
      },
      "execution_count": null,
      "outputs": []
    },
    {
      "cell_type": "code",
      "metadata": {
        "id": "6MzHbm-Hfmfc"
      },
      "source": [
        "# 레이블 0, 1 -> 0으로 매핑\n",
        "# 레이블 2, 3 -> 1로 매핑\n",
        "\n",
        "y_train[y_train < 2] = 0\n",
        "y_train[y_train > 0] = 1\n",
        "y_test[y_test < 2] = 0\n",
        "y_test[y_test > 0] = 1\n",
        "\n",
        "print(y_train)\n",
        "print(y_test)"
      ],
      "execution_count": null,
      "outputs": []
    },
    {
      "cell_type": "code",
      "source": [
        "import matplotlib.pyplot as plt"
      ],
      "metadata": {
        "id": "w78qPMfrSCmZ"
      },
      "execution_count": null,
      "outputs": []
    },
    {
      "cell_type": "code",
      "metadata": {
        "id": "mP8zxnsbfmfc"
      },
      "source": [
        "plt.scatter(x_train[:,0], x_train[:,1], c=y_train)\n",
        "plt.scatter([0, 1, 1, 0], [0, 1, 0, 1], c='r', s=100, marker='*')\n",
        "plt.show()"
      ],
      "execution_count": null,
      "outputs": []
    },
    {
      "cell_type": "markdown",
      "source": [
        "## 모델 생성하기"
      ],
      "metadata": {
        "id": "wvPukhtdSE_w"
      }
    },
    {
      "cell_type": "code",
      "source": [
        "import torch.nn as nn\n",
        "import torch.nn.functional as F"
      ],
      "metadata": {
        "id": "BZu2g-9fUBg1"
      },
      "execution_count": null,
      "outputs": []
    },
    {
      "cell_type": "code",
      "metadata": {
        "id": "CIUKBGnbfmff"
      },
      "source": [
        "class Net(nn.Module):\n",
        "    def __init__(self):\n",
        "        super().__init__()\n",
        "        self.fc = nn.Linear(2, 1)\n",
        "\n",
        "    def forward(self, x):\n",
        "        x = self.fc(x)\n",
        "        return F.sigmoid(x)"
      ],
      "execution_count": null,
      "outputs": []
    },
    {
      "cell_type": "markdown",
      "source": [
        "## 모델 학습하기"
      ],
      "metadata": {
        "id": "ybOcFgxUUPFP"
      }
    },
    {
      "cell_type": "code",
      "source": [
        "import torch\n",
        "\n",
        "from torch.optim import SGD"
      ],
      "metadata": {
        "id": "yqpmi3BTUvfS"
      },
      "execution_count": null,
      "outputs": []
    },
    {
      "cell_type": "code",
      "source": [
        "# 학습 계산에 쓸 디바이스 설정\n",
        "device = torch.device('cuda:0' if torch.cuda.is_available() else 'cpu')\n",
        "print(device)"
      ],
      "metadata": {
        "id": "MfowYpFFU_Ig"
      },
      "execution_count": null,
      "outputs": []
    },
    {
      "cell_type": "code",
      "metadata": {
        "id": "YYtvQfymfmfe"
      },
      "source": [
        "# 데이터를 텐서로 변환\n",
        "x_train = torch.FloatTensor(x_train)\n",
        "y_train = torch.FloatTensor(y_train)\n",
        "x_test = torch.FloatTensor(x_test)\n",
        "y_test = torch.FloatTensor(y_test)"
      ],
      "execution_count": null,
      "outputs": []
    },
    {
      "cell_type": "code",
      "metadata": {
        "id": "U4iWUny1fmff"
      },
      "source": [
        "# 모델 생성 및 디바이스에 얹기\n",
        "model = Net()\n",
        "\n",
        "# 손실함수 결정\n",
        "criterion = nn.BCELoss()\n",
        "\n",
        "# 옵티마이저와 학습률 결정\n",
        "optimizer = SGD(model.parameters(), lr=0.01)"
      ],
      "execution_count": null,
      "outputs": []
    },
    {
      "cell_type": "code",
      "metadata": {
        "id": "sk7Y9iEltVeS"
      },
      "source": [
        "# 1회 학습하기\n",
        "model.train() # 모델을 학습 모드로 설정\n",
        "output = model(x_train) # 순전파\n",
        "loss = criterion(output.squeeze(), y_train) # 로스 계산\n",
        "loss.backward() # 역전파 (그래디언트 계산)\n",
        "optimizer.step() # 역전파 (가중치 업데이트)\n",
        "optimizer.zero_grad() # 그래디언트 0으로 초기화"
      ],
      "execution_count": null,
      "outputs": []
    },
    {
      "cell_type": "code",
      "metadata": {
        "id": "YfPevo3Sfmfg"
      },
      "source": [
        "# 여러번 학습하기\n",
        "train_losses = []\n",
        "\n",
        "model.train()\n",
        "for i in range(2000):\n",
        "    output = model(x_train)\n",
        "    loss = criterion(output.squeeze(), y_train)\n",
        "    loss.backward()\n",
        "    optimizer.step()\n",
        "    optimizer.zero_grad()\n",
        "\n",
        "    train_losses.append(loss.item())\n",
        "\n",
        "    if (i + 1) % 50 == 0:\n",
        "        print(f'[{i + 1}] Loss: {loss:.4f}')"
      ],
      "execution_count": null,
      "outputs": []
    },
    {
      "cell_type": "code",
      "source": [
        "# 학습 로스 시각화하기\n",
        "\n",
        "plt.plot(train_losses)\n",
        "plt.xlabel('Epochs')\n",
        "plt.ylabel('BCE Loss')\n",
        "plt.title('Train Loss')\n",
        "plt.show()"
      ],
      "metadata": {
        "id": "MvgAnMCU7Zr1"
      },
      "execution_count": null,
      "outputs": []
    },
    {
      "cell_type": "markdown",
      "source": [
        "## 모델 테스트하기"
      ],
      "metadata": {
        "id": "Ya7IIvJCXplj"
      }
    },
    {
      "cell_type": "code",
      "metadata": {
        "id": "bqQLXlsefmfg"
      },
      "source": [
        "model.eval()\n",
        "with torch.no_grad():\n",
        "    output = model(x_test)\n",
        "    loss = criterion(output.squeeze(), y_test)\n",
        "    correct = (output.squeeze().round() == y_test).sum().item()\n",
        "accuracy = correct / len(y_test) * 100\n",
        "\n",
        "print(f'Test Loss {loss.item():.4f}')\n",
        "print(f'Test Accuracy {accuracy:.2f}')"
      ],
      "execution_count": null,
      "outputs": []
    },
    {
      "cell_type": "markdown",
      "source": [
        "## 모델 저장하고 불러오기"
      ],
      "metadata": {
        "id": "2gGPQMmNX92D"
      }
    },
    {
      "cell_type": "code",
      "metadata": {
        "id": "GIMYuQW5fmfg"
      },
      "source": [
        "# 모델 저장하기\n",
        "torch.save(model.state_dict(), './model.pt')"
      ],
      "execution_count": null,
      "outputs": []
    },
    {
      "cell_type": "code",
      "source": [
        "# 모델 불러오기\n",
        "model = Net()\n",
        "model.load_state_dict(torch.load('./model.pt'))"
      ],
      "metadata": {
        "id": "LxPAQQhhZ8hx"
      },
      "execution_count": null,
      "outputs": []
    },
    {
      "cell_type": "code",
      "source": [],
      "metadata": {
        "id": "77ECBy92IlQV"
      },
      "execution_count": null,
      "outputs": []
    }
  ]
}