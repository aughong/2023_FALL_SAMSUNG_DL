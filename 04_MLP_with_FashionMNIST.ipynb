{
  "nbformat": 4,
  "nbformat_minor": 0,
  "metadata": {
    "colab": {
      "provenance": []
    },
    "kernelspec": {
      "display_name": "Python 3",
      "name": "python3"
    },
    "language_info": {
      "codemirror_mode": {
        "name": "ipython",
        "version": 3
      },
      "file_extension": ".py",
      "mimetype": "text/x-python",
      "name": "python",
      "nbconvert_exporter": "python",
      "pygments_lexer": "ipython3",
      "version": "3.8.5"
    }
  },
  "cells": [
    {
      "cell_type": "markdown",
      "source": [
        "# PyTorch를 활용한 멀티 레이어 퍼셉트론 (MLP) 구현\n",
        "\n",
        "PyTorch를 활용하여,\n",
        "\n",
        "1. FashionMNIST 데이터셋을 불러온다\n",
        "2. MLP를 구현한다\n",
        "3. Classification을 수행한다"
      ],
      "metadata": {
        "id": "VbnR7P27uAvp"
      }
    },
    {
      "cell_type": "markdown",
      "source": [
        "### FanshionMNIST 데이터셋 불러오고 살펴보기"
      ],
      "metadata": {
        "id": "j52yNAlj_t0q"
      }
    },
    {
      "cell_type": "code",
      "source": [
        "from torch.utils.data import DataLoader\n",
        "from torchvision import transforms\n",
        "from torchvision.datasets import FashionMNIST"
      ],
      "metadata": {
        "id": "e221H_ZR6DQv"
      },
      "execution_count": null,
      "outputs": []
    },
    {
      "cell_type": "code",
      "metadata": {
        "id": "CCfcSdffr-n0"
      },
      "source": [
        "train_dataset = FashionMNIST(\n",
        "    root='./data/',\n",
        "    train=True,\n",
        "    download=True,\n",
        "    transform=transforms.ToTensor()\n",
        ")\n",
        "\n",
        "test_dataset = FashionMNIST(\n",
        "    root='./data/',\n",
        "    train=False,\n",
        "    download=False,\n",
        "    transform=transforms.ToTensor()\n",
        ")"
      ],
      "execution_count": null,
      "outputs": []
    },
    {
      "cell_type": "code",
      "metadata": {
        "id": "RfwKbqXqr-n0"
      },
      "source": [
        "batch_size = 64\n",
        "\n",
        "train_loader = DataLoader(\n",
        "    dataset=train_dataset,\n",
        "    batch_size=batch_size,\n",
        "    shuffle=True\n",
        ")\n",
        "\n",
        "test_loader = DataLoader(\n",
        "    dataset=test_dataset,\n",
        "    batch_size=batch_size,\n",
        "    shuffle=False\n",
        ")"
      ],
      "execution_count": null,
      "outputs": []
    },
    {
      "cell_type": "code",
      "source": [
        "import numpy as np\n",
        "import matplotlib.pyplot as plt"
      ],
      "metadata": {
        "id": "v5It3-mH_76F"
      },
      "execution_count": null,
      "outputs": []
    },
    {
      "cell_type": "code",
      "source": [
        "class_label_map = {\n",
        "    0: \"T-Shirt/Top\",\n",
        "    1: \"Trouser\",\n",
        "    2: \"Pullover\",\n",
        "    3: \"Dress\",\n",
        "    4: \"Coat\",\n",
        "    5: \"Sandal\",\n",
        "    6: \"Shirt\",\n",
        "    7: \"Sneaker\",\n",
        "    8: \"Bag\",\n",
        "    9: \"Ankle Boot\",\n",
        "}\n",
        "\n",
        "figure = plt.figure(figsize=(6, 6))\n",
        "rows, cols = 3, 3\n",
        "for i in range(1, cols * rows + 1):\n",
        "    sample_idx = np.random.randint(len(train_dataset))\n",
        "    img, cls = train_dataset[sample_idx]\n",
        "    figure.add_subplot(rows, cols, i)\n",
        "    plt.title(class_label_map[cls])\n",
        "    plt.axis(\"off\")\n",
        "    plt.imshow(img.squeeze(), cmap=\"gray\")\n",
        "plt.show()"
      ],
      "metadata": {
        "id": "NCX_YR5_0WzP"
      },
      "execution_count": null,
      "outputs": []
    },
    {
      "cell_type": "markdown",
      "source": [
        "## PyTorch로 MLP 구현하기\n",
        "\n",
        "#### nn.Linear(input_dim, output_dim)\n",
        "- Fully connected layer(FC)라고도 부름\n",
        "- `input_dim`: 입력되는 값의 차원\n",
        "- `output_dim`: 출력되는 값의 차원\n",
        "- input_dim=3, output_dim=4라면? 3개의 값이 들어가서 4개의 값으로 나온다!"
      ],
      "metadata": {
        "id": "-NU7PwGO1GXE"
      }
    },
    {
      "cell_type": "markdown",
      "source": [
        "### 모델 생성하기\n",
        "\n",
        "![image.png](https://blog.kakaocdn.net/dn/b5XcJp/btqWUpKHPTL/wy9Z1Kg41sn6Nbqe2IKBMk/img.png)\n",
        "\n",
        "- 3개의 fully connected layer로 구성함 (fc1, fc2, fc3)\n",
        "- Linear layer인 fc1에 입력하기 위해서 28x28인 샘플을 한 줄로 flatten할 필요가 있음\n",
        "- fc1, fc2는 ReLU 활성함수를 포함함\n",
        "- fc3은 최종적으로 10개의 각 클래스에 대한 값을 출력함"
      ],
      "metadata": {
        "id": "Cep9KdmmCWrx"
      }
    },
    {
      "cell_type": "code",
      "source": [
        "import torch.nn as nn\n",
        "import torch.nn.functional as F"
      ],
      "metadata": {
        "id": "VL97PMcUBn1N"
      },
      "execution_count": null,
      "outputs": []
    },
    {
      "cell_type": "code",
      "metadata": {
        "id": "bWpR8Gfer-n9"
      },
      "source": [
        "# 아래 코드를 완성해주세요\n",
        "\n",
        "class MLP(nn.Module):\n",
        "    def __init__(self):\n",
        "        return\n",
        "\n",
        "    def forward(self, x):\n",
        "        return"
      ],
      "execution_count": null,
      "outputs": []
    },
    {
      "cell_type": "markdown",
      "source": [
        "### 모델 학습하기"
      ],
      "metadata": {
        "id": "cw_R0YBm1CQc"
      }
    },
    {
      "cell_type": "code",
      "source": [
        "import torch\n",
        "\n",
        "from torch.optim import SGD"
      ],
      "metadata": {
        "id": "EBwUHrj1DgaJ"
      },
      "execution_count": null,
      "outputs": []
    },
    {
      "cell_type": "code",
      "metadata": {
        "id": "A9o9IOVer-nx"
      },
      "source": [
        "# 학습을 수행할 디바이스를 설정합니다\n",
        "\n",
        "# 모델을 디바이스에 올립니다\n",
        "\n",
        "# 옵티마이저를 SGD, 학습률을 0.01로 설정합니다\n"
      ],
      "execution_count": null,
      "outputs": []
    },
    {
      "cell_type": "markdown",
      "source": [
        "- 모델을 학습 모드로 둠\n",
        "- 20회 학습을 반복함\n",
        "- 데이터로더에서 입력 데이터와 정답 레이블을 차례대로 불러옴\n",
        "- 불러온 데이터와 레이블을 모델과 같은 디바이스에 올림\n",
        "- 데이터를 모델에 입력하고 예측 결과를 받음\n",
        "- 예측 결과를 정답 레이블과 비교하여 로스를 계산함\n",
        "- 로스로부터 역전파로 그래디언트를 계산함\n",
        "- 옵티마이저로 업데이트함\n",
        "- 그래디언트를 0으로 초기화함\n",
        "- 매 epoch마다의 평균 로스를 출력함"
      ],
      "metadata": {
        "id": "_Wb6ootxMsGU"
      }
    },
    {
      "cell_type": "code",
      "metadata": {
        "id": "uydJrtePr-n-"
      },
      "source": [
        "# 모델을 학습하는 코드를 구현해주세요"
      ],
      "execution_count": null,
      "outputs": []
    },
    {
      "cell_type": "markdown",
      "source": [
        "### 모델 테스트하기\n",
        "\n",
        "- 모델을 테스트 모드로 둠\n",
        "- 그래디언트 계산을 위한 트래킹 기능을 막음\n",
        "- 데이터로더에서 입력 데이터와 정답 레이블을 차례대로 불러옴\n",
        "- 불러온 데이터와 레이블을 모델과 같은 디바이스에 올림\n",
        "- 데이터를 모델에 입력하고 예측 결과를 받음\n",
        "- 예측 결과를 정답 레이블과 비교하여 로스를 계산함\n",
        "- 예측 결과를 클래스로 변환함\n",
        "- 모델의 정확도를 계산함"
      ],
      "metadata": {
        "id": "RWX9gqVCJHGZ"
      }
    },
    {
      "cell_type": "code",
      "source": [
        "test_loss = 0\n",
        "correct = 0\n",
        "\n",
        "# 모델을 테스트하는 코드를 구현해주세요\n",
        "\n",
        "print(f'Loss: {test_loss:.4f}, Accuracy: {test_acc:.2f}%')"
      ],
      "metadata": {
        "id": "xTKhFHu1JGGi"
      },
      "execution_count": null,
      "outputs": []
    },
    {
      "cell_type": "markdown",
      "source": [
        "### 결과 시각화하기"
      ],
      "metadata": {
        "id": "wzjIMDMYF1m6"
      }
    },
    {
      "cell_type": "code",
      "metadata": {
        "id": "3q7lQl7Vr-oX"
      },
      "source": [
        "rows, cols = 6, 6\n",
        "fig = plt.figure(figsize=(10,10))\n",
        "\n",
        "model.eval()\n",
        "for i in range(1, rows * cols + 1):\n",
        "    data_idx = np.random.randint(len(test_dataset))\n",
        "    input_img = test_dataset[data_idx][0].unsqueeze(dim=0).to(device)\n",
        "\n",
        "    output = model(input_img)\n",
        "    _, argmax = torch.max(output, 1)\n",
        "    pred = class_label_map[argmax.item()]\n",
        "    label = class_label_map[test_dataset[data_idx][1]]\n",
        "\n",
        "    fig.add_subplot(rows, cols, i)\n",
        "    if pred == label:\n",
        "        plt.title(pred + ', right')\n",
        "        cmap = 'Blues'\n",
        "    else:\n",
        "        plt.title('N ' + pred + ' B ' +  label)\n",
        "        cmap = 'Reds'\n",
        "    plot_img = test_dataset[data_idx][0][0,:,:]\n",
        "    plt.imshow(plot_img, cmap=cmap)\n",
        "    plt.axis('off')\n",
        "\n",
        "plt.show()"
      ],
      "execution_count": null,
      "outputs": []
    }
  ]
}