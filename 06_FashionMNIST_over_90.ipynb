{
  "nbformat": 4,
  "nbformat_minor": 0,
  "metadata": {
    "colab": {
      "provenance": []
    },
    "kernelspec": {
      "name": "python3",
      "display_name": "Python 3"
    },
    "language_info": {
      "name": "python"
    }
  },
  "cells": [
    {
      "cell_type": "markdown",
      "source": [
        "# FashionMNIST Accuracy 90% 도전\n",
        "\n",
        "## 지금까지 익힌 것들을 적당히 활용하여 테스트데이터셋에 대한 90% 이상의 정확도를 만들어 보세요"
      ],
      "metadata": {
        "id": "2WVY_NzI6Dmp"
      }
    },
    {
      "cell_type": "markdown",
      "source": [
        "### 1. 데이터셋 불러오기\n",
        "### 2. 모델을 구성하기\n",
        "### 3. 모델을 학습하기\n",
        "### 4. 학습 Epoch마다 테스트데이터셋에 대한 Loss와 Accuracy를 저장하기\n",
        "### 5. 저장한 Loss와 Accuracy를 각각 Plotting하기"
      ],
      "metadata": {
        "id": "4rOfdBoJ62kf"
      }
    },
    {
      "cell_type": "code",
      "execution_count": null,
      "metadata": {
        "id": "EP4AKUax592z"
      },
      "outputs": [],
      "source": []
    }
  ]
}