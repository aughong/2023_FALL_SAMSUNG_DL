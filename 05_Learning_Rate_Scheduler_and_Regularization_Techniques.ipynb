{
  "nbformat": 4,
  "nbformat_minor": 0,
  "metadata": {
    "colab": {
      "provenance": []
    },
    "kernelspec": {
      "name": "python3",
      "display_name": "Python 3"
    },
    "language_info": {
      "name": "python"
    }
  },
  "cells": [
    {
      "cell_type": "markdown",
      "source": [
        "# 학습에 도움이 되는 테크닉"
      ],
      "metadata": {
        "id": "MNvlmNz3gwOn"
      }
    },
    {
      "cell_type": "markdown",
      "source": [
        "## 1. Learning Rate Scheduler\n",
        "\n",
        "학습 중 학습률(learning rate, LR)을 조정\n",
        "\n",
        " ![image.png](http://drive.google.com/uc?id=1LsHW_g90NRBemBEm-1Bn-0et0qDNyi8v)\n",
        "\n",
        " ![image.png](https://img1.daumcdn.net/thumb/R1280x0/?scode=mtistory2&fname=https%3A%2F%2Fblog.kakaocdn.net%2Fdn%2FbeNGrz%2FbtqQzRMQAQx%2FE5HgPj8oe4AugHgHxS7RlK%2Fimg.png)\n",
        "\n",
        "### optim.lr_scheduler\n",
        " - [doc] (https://pytorch.org/docs/stable/optim.html)\n",
        "\n",
        " ![image.png](http://drive.google.com/uc?id=1Ri1piSSdPng993SCk0vGqDGuoiD5aDqd)\n",
        "\n",
        " ![image.png](http://drive.google.com/uc?id=1cU3Et1QbKPf4jKoCwK14jDz3SgVkRG8N)"
      ],
      "metadata": {
        "id": "WEMOKqbrYOUf"
      }
    },
    {
      "cell_type": "code",
      "source": [
        "import torch.nn as nn\n",
        "import torch.nn.functional as F\n",
        "import matplotlib.pyplot as plt\n",
        "\n",
        "from torch.optim import SGD, lr_scheduler"
      ],
      "metadata": {
        "id": "uuxJEA87jTcK"
      },
      "execution_count": null,
      "outputs": []
    },
    {
      "cell_type": "code",
      "metadata": {
        "id": "2gyzM_OF0Zw5"
      },
      "source": [
        "class Net(nn.Module):\n",
        "    def __init__(self):\n",
        "        super().__init__()\n",
        "        self.fc1 = nn.Linear(28 * 28, 256)\n",
        "        self.fc2 = nn.Linear(256, 128)\n",
        "        self.fc3 = nn.Linear(128, 10)\n",
        "\n",
        "\n",
        "    def forward(self, x):\n",
        "        x = x.view(-1, 28 * 28)\n",
        "        x = F.relu(self.fc1(x))\n",
        "        x = F.relu(self.fc2(x))\n",
        "        return self.fc3(x)"
      ],
      "execution_count": null,
      "outputs": []
    },
    {
      "cell_type": "code",
      "metadata": {
        "id": "QgLv3VK8K6zK"
      },
      "source": [
        "lr = 0.01\n",
        "step_size = 30\n",
        "gamma = 0.1\n",
        "\n",
        "model = Net()\n",
        "\n",
        "# 옵티마이저 및 스케쥴러 설정\n",
        "optimizer = SGD(model.parameters(), lr=lr)\n",
        "scheduler = lr_scheduler.StepLR(optimizer, step_size=step_size, gamma=gamma) # step_size마다 학습률에 gamma를 곱함\n",
        "\n",
        "lrs = []\n",
        "for i in range(100):\n",
        "    lrs.append(scheduler.get_last_lr()[0])\n",
        "    optimizer.step()\n",
        "    scheduler.step() # 스케쥴러를 사용하기 위해서 필수적으로 들어가야함\n",
        "\n",
        "plt.plot(range(100), lrs)\n",
        "plt.show()"
      ],
      "execution_count": null,
      "outputs": []
    },
    {
      "cell_type": "markdown",
      "metadata": {
        "id": "5sCDot73ctvA"
      },
      "source": [
        "## 2. Early Stopping\n",
        "\n",
        "Validation 데이터셋을 두고, validation 데이터셋의 예측 결과를 통해 학습 중단 시기를 결정하는 기법\n",
        "\n",
        "![image.png](https://miro.medium.com/max/1400/1*06sTlOC3AYeZAjzUDwbaMw@2x.jpeg)"
      ]
    },
    {
      "cell_type": "code",
      "source": [
        "import torch"
      ],
      "metadata": {
        "id": "hTMzKyr3nlv7"
      },
      "execution_count": null,
      "outputs": []
    },
    {
      "cell_type": "code",
      "metadata": {
        "id": "0nQimUqQxGGH"
      },
      "source": [
        "# [주의] 아래는 알고리즘 참고용이며 이대로는 실행되지 않음\n",
        "\n",
        "count = 0\n",
        "best_acc = 0\n",
        "patience = 3\n",
        "\n",
        "for _ in range(100000):\n",
        "    # 1회 학습\n",
        "    model.train()\n",
        "    for input, target in train_loader:\n",
        "        output = model(input)\n",
        "        loss = criterion(output, target)\n",
        "        loss.backward()\n",
        "        optimizer.step()\n",
        "        optimizer.zero_grad()\n",
        "\n",
        "    model.eval()\n",
        "    valid_acc = 0\n",
        "    with torch.no_grad():\n",
        "        for input, target in valid_loader:\n",
        "            output = model(input)\n",
        "            valid_acc += accuracy(output, target)\n",
        "        valid_acc /= len(valid_loader) # 지정한 퍼포먼스 메트릭으로 성능 평가 (편의상 accuracy로 표현)\n",
        "\n",
        "    if valid_acc > best_acc: # 더 좋은 성능이 나온다면\n",
        "        best_acc = valid_acc # 최고 성능 업데이트\n",
        "        count = 0 # 카운트 초기화\n",
        "        torch.save(model.state_dict(), './model.pt') # 모델 저장\n",
        "    else: # 성능이 오르지 않는다면\n",
        "        count += 1 # 카운트 추가\n",
        "        if count >= patience: # 참기로 한 횟수(patience)만큼 성능이 오르지 않았다면\n",
        "            break # 학습을 멈춤"
      ],
      "execution_count": null,
      "outputs": []
    },
    {
      "cell_type": "markdown",
      "metadata": {
        "id": "AtgtyCq7eck2"
      },
      "source": [
        "## 3. Dropout : `nn.Dropout2d`\n",
        "학습 중 뉴런을 일시적으로 제거(drop)하는 기법\n",
        "- Dropout rate가 0.5인 경우, 4개의 뉴런은 각각 0.5의 확률로 이번 학습에서 제거될지 말지를 결정함\n",
        "  - [내용 참고](https://heytech.tistory.com/127)\n",
        "\n",
        "![imgae.png](https://img1.daumcdn.net/thumb/R1280x0/?scode=mtistory2&fname=https%3A%2F%2Fblog.kakaocdn.net%2Fdn%2Fm5YtD%2FbtrbwgszFXZ%2FxdUhkeyK2lmrQXYy7HioL0%2Fimg.png)\n",
        "\n",
        "- [doc] (https://pytorch.org/docs/stable/generated/torch.nn.Dropout2d.html)\n",
        "\n",
        " ![image.png](http://drive.google.com/uc?id=1qYq4XLqNskL8ejGVjFblS9cVfYIJmyHR)\n",
        " ![image.png](http://drive.google.com/uc?id=11jcEX8ADdeW4y2U1EnFbk0j2h4OQX9TG)"
      ]
    },
    {
      "cell_type": "markdown",
      "source": [
        "아래 지시에 따라 코드를 완성해주세요\n",
        "\n",
        "- [N, C, H, W] = [N, 1, 32, 32] 사이즈의 입력이 들어갈 예정\n",
        "- 예측 클래스는 8개\n",
        "- 3개의 fully connected layer로 구성됨 (fc1, fc2, fc3)\n",
        "    - 활성함수는 ReLU를 사용하며, 마지막 레이어에는 활성함수가 없음\n",
        "- 첫 dropout은 input layer에 적용함\n",
        "    - Dropout은 25% 확률로 실행함\n",
        "- 두번째 dropout은 fc2에 적용함\n",
        "    - Dropout은 20% 확률로 실행함"
      ],
      "metadata": {
        "id": "W_at6nZOuTre"
      }
    },
    {
      "cell_type": "code",
      "source": [
        "# 필요한 import를 작성해주세요\n"
      ],
      "metadata": {
        "id": "QRgiw0p_uf2S"
      },
      "execution_count": null,
      "outputs": []
    },
    {
      "cell_type": "code",
      "metadata": {
        "id": "s2myTmx9JMhN"
      },
      "source": [
        "# 모델을 구현해주세요\n"
      ],
      "execution_count": null,
      "outputs": []
    },
    {
      "cell_type": "markdown",
      "source": [
        "위와 같은 모델을:\n",
        "단, `nn.Dropout`이 아닌 `torch.nn.functional.dropout`을 써서 구현해주세요"
      ],
      "metadata": {
        "id": "Rd9S7OR7vTxy"
      }
    },
    {
      "cell_type": "code",
      "source": [],
      "metadata": {
        "id": "ZX6WMdyjvhw4"
      },
      "execution_count": null,
      "outputs": []
    },
    {
      "cell_type": "markdown",
      "metadata": {
        "id": "7f7jg-aqd_hq"
      },
      "source": [
        "## 4. Batch Normalization\n",
        "\n",
        "- 학습 과정에서 각 배치 단위 별로 데이터가 다양한 분포를 가지더라도 각 배치별로 평균과 분산을 이용해 정규화하는 것을 뜻함\n",
        "- batch 단위나 layer에 따라서 입력 값의 분포가 모두 다르지만 정규화를 통하여 분포를 zero mean gaussian 형태로 만듦\n",
        "    - [내용 참고](https://gaussian37.github.io/dl-concept-batchnorm/)\n",
        "\n",
        "![image.png](https://gaussian37.github.io/assets/img/dl/concept/batchnorm/4.png)\n",
        "\n",
        "- [doc] (https://pytorch.org/docs/stable/generated/torch.nn.BatchNorm2d.html)\n",
        "\n",
        " ![image.png](http://drive.google.com/uc?id=1sId2CSNqxKncTueKwgtIoBzEMvSfAvhx)\n",
        " ![image.png](http://drive.google.com/uc?id=1fycDf_67C9OBV1GHZBmwD4P83iNtS5XL)"
      ]
    },
    {
      "cell_type": "markdown",
      "source": [
        "아래 코드는 에러가 나니 잘못된 부분을 찾아 수정해 보세요"
      ],
      "metadata": {
        "id": "sCy5U5xg0mkC"
      }
    },
    {
      "cell_type": "code",
      "metadata": {
        "id": "dsK1rtKJH-SB"
      },
      "source": [
        "class Net(nn.Module):\n",
        "    def __init__(self):\n",
        "        super().__init__()\n",
        "        self.fc1 = nn.Linear(32 * 32, 256)\n",
        "        self.bn1 = nn.BatchNorm1d(32 * 32)\n",
        "        self.fc2 = nn.Linear(256, 128)\n",
        "        self.bn2 = nn.BatchNorm2d(128)\n",
        "        self.fc3 = nn.Linear(64, 4)\n",
        "\n",
        "    def forward(self, x):\n",
        "        # 이 부분은 문제 없음\n",
        "        x = x.view(-1, 32 * 32)\n",
        "        x = self.fc1(x)\n",
        "        x = self.bn1(x)\n",
        "        x = F.relu(x)\n",
        "        x = self.fc2(x)\n",
        "        x = self.bn2(x)\n",
        "        x = F.relu(x)\n",
        "        return self.fc3(x)"
      ],
      "execution_count": null,
      "outputs": []
    },
    {
      "cell_type": "code",
      "source": [
        "# 버그를 잘 잡았는지 아래 코드를 실행하여 확인\n",
        "## 문제가 없다면 에러 없이 실행됨\n",
        "\n",
        "model = Net()\n",
        "model(torch.rand(2, 32, 32))"
      ],
      "metadata": {
        "id": "rwZrQgTi02ey"
      },
      "execution_count": null,
      "outputs": []
    }
  ]
}