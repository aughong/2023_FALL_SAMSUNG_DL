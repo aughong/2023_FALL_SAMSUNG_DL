{
 "cells": [
  {
   "cell_type": "markdown",
   "metadata": {},
   "source": [
    "# NumPy를 활용한 멀티 레이어 퍼셉트론 (MLP) 구현\n",
    "\n",
    "NumPy를 활용하여,\n",
    "\n",
    "1. __다양한 활성함수를 구현한다__\n",
    "2. 퍼셉트론을 구현한다\n",
    "3. MLP를 구현한다\n",
    "\n",
    "번외. 재현성을 위한 PRNG 시드 설정을 한다"
   ]
  },
  {
   "cell_type": "markdown",
   "metadata": {},
   "source": [
    "### 다양한 활성함수 구현\n",
    "\n",
    "1. 계단 함수\n",
    "2. Sigmoid 함수\n",
    "3. ReLU 함수\n",
    "4. tanh 함수\n",
    "4. Softmax 함수"
   ]
  },
  {
   "cell_type": "code",
   "execution_count": null,
   "metadata": {},
   "outputs": [],
   "source": [
    "import numpy as np"
   ]
  },
  {
   "cell_type": "code",
   "execution_count": null,
   "metadata": {},
   "outputs": [],
   "source": [
    "# 계단 함수\n",
    "## 특정값보다 크면 1, 작거나 같으면 0\n",
    "def step(x, threshold=0.0):\n",
    "    return int(y)"
   ]
  },
  {
   "cell_type": "markdown",
   "metadata": {},
   "source": [
    "$$ sigmoid(x) = \\frac{1}{1 + \\exp{(-x)}} $$"
   ]
  },
  {
   "cell_type": "code",
   "execution_count": null,
   "metadata": {},
   "outputs": [],
   "source": [
    "# 시그모이드 함수\n",
    "def sigmoid(x):\n",
    "    return y"
   ]
  },
  {
   "cell_type": "code",
   "execution_count": null,
   "metadata": {},
   "outputs": [],
   "source": [
    "# ReLU 함수\n",
    "## 음수를 0으로 처리\n",
    "def relu(x):\n",
    "    return y"
   ]
  },
  {
   "cell_type": "markdown",
   "metadata": {},
   "source": [
    "$$ tanh(x) = \\frac{\\exp{(x)}-\\exp{(-x)}}{\\exp{(x)}+\\exp{(-x)}}"
   ]
  },
  {
   "cell_type": "code",
   "execution_count": null,
   "metadata": {},
   "outputs": [],
   "source": [
    "# tanh 함수\n",
    "def tanh(x):\n",
    "    return y"
   ]
  },
  {
   "cell_type": "markdown",
   "metadata": {},
   "source": [
    "$$ softmax(x, k) = \\frac{C\\exp{(x_k)}}{C\\sum^n_{i=1}{\\exp{(x_i)}}} $$"
   ]
  },
  {
   "cell_type": "code",
   "execution_count": null,
   "metadata": {},
   "outputs": [],
   "source": [
    "# Softmax 함수\n",
    "def softmax(x):\n",
    "    return y"
   ]
  },
  {
   "cell_type": "markdown",
   "metadata": {},
   "source": [
    "#### 활성함수 시각화\n",
    "\n",
    "-10부터 10까지 총 21개의 정수 배열로 구현한 활성함수를 시각화한다"
   ]
  },
  {
   "cell_type": "code",
   "execution_count": null,
   "metadata": {},
   "outputs": [],
   "source": [
    "%matplotlib inline\n",
    "\n",
    "import matplotlib.pyplot as plt\n",
    "\n",
    "xs = np.arange(-10, 11)"
   ]
  },
  {
   "cell_type": "code",
   "execution_count": null,
   "metadata": {},
   "outputs": [],
   "source": [
    "# 계단 함수\n",
    "\n",
    "plt.scatter(xs, ys)\n",
    "plt.xlabel('input')\n",
    "plt.ylabel('output')\n",
    "plt.title('Step function')\n",
    "plt.show()"
   ]
  },
  {
   "cell_type": "code",
   "execution_count": null,
   "metadata": {},
   "outputs": [],
   "source": [
    "# 시그모이드 함수\n",
    "\n",
    "plt.plot(xs, ys)\n",
    "plt.xlabel('input')\n",
    "plt.ylabel('output')\n",
    "plt.title('Sigmoid function')\n",
    "plt.show()"
   ]
  },
  {
   "cell_type": "code",
   "execution_count": null,
   "metadata": {},
   "outputs": [],
   "source": [
    "# ReLU 함수\n",
    "\n",
    "plt.plot(xs, ys)\n",
    "plt.xlabel('input')\n",
    "plt.ylabel('output')\n",
    "plt.title('ReLU function')\n",
    "plt.show()"
   ]
  },
  {
   "cell_type": "code",
   "execution_count": null,
   "metadata": {},
   "outputs": [],
   "source": [
    "# tanh 함수\n",
    "\n",
    "plt.plot(xs, ys)\n",
    "plt.xlabel('input')\n",
    "plt.ylabel('output')\n",
    "plt.title('tanh function')\n",
    "plt.show()"
   ]
  }
 ],
 "metadata": {
  "kernelspec": {
   "display_name": "lg",
   "language": "python",
   "name": "python3"
  },
  "language_info": {
   "codemirror_mode": {
    "name": "ipython",
    "version": 3
   },
   "file_extension": ".py",
   "mimetype": "text/x-python",
   "name": "python",
   "nbconvert_exporter": "python",
   "pygments_lexer": "ipython3",
   "version": "3.10.13"
  }
 },
 "nbformat": 4,
 "nbformat_minor": 2
}
